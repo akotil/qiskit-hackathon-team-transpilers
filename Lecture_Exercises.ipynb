{
 "cells": [
  {
   "cell_type": "code",
   "execution_count": 1,
   "id": "a25daf2a",
   "metadata": {},
   "outputs": [],
   "source": [
    "from qiskit import QuantumCircuit"
   ]
  },
  {
   "cell_type": "markdown",
   "id": "972985cc",
   "metadata": {},
   "source": [
    "Let us investigate a quantum circuit. We are going to use the Qiskit framework to visualize the circuit."
   ]
  },
  {
   "cell_type": "code",
   "execution_count": 2,
   "id": "3a276b1b",
   "metadata": {},
   "outputs": [
    {
     "data": {
      "image/png": "[encoded data removed]",
      "text/plain": [
       "<Figure size 387.452x204.68 with 1 Axes>"
      ]
     },
     "execution_count": 2,
     "metadata": {},
     "output_type": "execute_result"
    }
   ],
   "source": [
    "qc = QuantumCircuit(2,2)\n",
    "qc.h(0)\n",
    "qc.barrier()\n",
    "qc.cnot(0,1)\n",
    "qc.barrier()\n",
    "qc.h(1)\n",
    "qc.draw(output='mpl')"
   ]
  },
  {
   "cell_type": "markdown",
   "id": "ffaaf0c4",
   "metadata": {},
   "source": [
    "This is what the circuit does: The first Hadamard gate brings the first qubit into superposition. The first qubit then controls the second qubit and flips it when it is 1. The second Hadamard gate brings the second qubit into superposition such that we have all the possible configurations of basis vectors in the end.\n",
    "\n",
    "An intuitive way of understanding what happens with a quantum circuit is to think of all the possible quantum states within a discrete time frame as a **_graph_**. Let's go step by step to see how the quantum state evolves with every gate using the example circuit above.\n",
    "\n",
    "Every graph node respresents a quantum state. The edges that connect the nodes carry the probability of landing in the destination node. At the beginning, we start with the state $|00\\rangle$. It is only one single node:"
   ]
  },
  {
   "cell_type": "markdown",
   "id": "00300c7a",
   "metadata": {},
   "source": [
    "<img src=\"./g1.png\" alt=\"Drawing\" style=\"width: 100px;\"/>"
   ]
  },
  {
   "cell_type": "markdown",
   "id": "a0fd7650",
   "metadata": {},
   "source": [
    "The first operation is a Hadamard gate. The Hadamard gate on the first gate will bring the first qubit into superposition, like this: $|00\\rangle \\rightarrow \\mathcal{H}|00\\rangle = 1/\\sqrt(2)(|00\\rangle + |10\\rangle)$. In other words, the first qubit is 0 with 50% probability and 1 is with 50% probability. We can think of this as two different _paths_, diverging from the start. We are going to see at the end of the circuit that a definite path will be the final quantum state."
   ]
  },
  {
   "cell_type": "markdown",
   "id": "ec51cf76",
   "metadata": {},
   "source": [
    "<img src=\"./g2.png\" alt=\"Drawing\" style=\"width: 200px;\"/>"
   ]
  },
  {
   "cell_type": "markdown",
   "id": "79845771",
   "metadata": {},
   "source": [
    "Next, we apply the CNOT gate. The first qubit controls the second qubit, so we have: $\\frac{1}{\\sqrt{2}}(|00\\rangle + |10\\rangle) \\rightarrow CNOT \\frac{1}{\\sqrt{2}}(|00\\rangle + |10\\rangle) = \\frac{1}{\\sqrt{2}}(|00\\rangle + |11\\rangle)$. Since the CNOT operation does not change the amplitudes of the quantum state, the probability that we land in a purple node from a red node will be 1. In order to calculate the probability of having one of the quantum states in the graph leaves (i.e. the nodes in the last layer of the graph), we just traverse back to the orange root node $|00\\rangle$. For example, the probability of having the quantum state $|00\\rangle$ (or $|10\\rangle$) in the end is $1/2 * 1 = 1/2$."
   ]
  },
  {
   "cell_type": "markdown",
   "id": "a878df1a",
   "metadata": {},
   "source": [
    "<img src=\"./g3.png\" alt=\"Drawing\" style=\"width: 200px;\"/>"
   ]
  },
  {
   "cell_type": "markdown",
   "id": "ff6833ee",
   "metadata": {},
   "source": [
    "Now we apply the second Hadamard gate on the _second_ qubit. This operation will bring the second qubit into superposition, just like with the first qubit in the beggining. The tree will now expand to its full breadth, covering all basis vectors from the computational basis $\\{ |00\\rangle, |01\\rangle, |10\\rangle, |11\\rangle\\}$."
   ]
  },
  {
   "cell_type": "markdown",
   "id": "a63a1227",
   "metadata": {},
   "source": [
    "<img src=\"./g4.png\" alt=\"Drawing\" style=\"width: 300px;\"/>"
   ]
  },
  {
   "cell_type": "markdown",
   "id": "50fa51d3",
   "metadata": {},
   "source": [
    "We can read out the probabilities from the graph again: The probability that the quantum circuit yields the basis state $|00\\rangle$ (and equally for all the other basis states) is $1/2 * 1 * 1/2 = 1/4$. Now comes the most interesting part of the circuit: The measurement. Let's measure the first qubit. The measurement outcome will either be 1 or 0."
   ]
  },
  {
   "cell_type": "code",
   "execution_count": 3,
   "id": "9637e12e",
   "metadata": {},
   "outputs": [
    {
     "data": {
      "image/png": "[encoded data removed]",
      "text/plain": [
       "<Figure size 447.652x204.68 with 1 Axes>"
      ]
     },
     "execution_count": 3,
     "metadata": {},
     "output_type": "execute_result"
    }
   ],
   "source": [
    "qc.measure(0,1) # measure the first qubit and store the classical outcome in a classical register\n",
    "qc.draw(output=\"mpl\")"
   ]
  },
  {
   "cell_type": "markdown",
   "id": "b5bc3f08",
   "metadata": {},
   "source": [
    "According to the outcome, we modify the graph structure to clearly mark the possible"
   ]
  }
 ],
 "metadata": {
  "kernelspec": {
   "display_name": "Python 3 (ipykernel)",
   "language": "python",
   "name": "python3"
  },
  "language_info": {
   "codemirror_mode": {
    "name": "ipython",
    "version": 3
   },
   "file_extension": ".py",
   "mimetype": "text/x-python",
   "name": "python",
   "nbconvert_exporter": "python",
   "pygments_lexer": "ipython3",
   "version": "3.9.10"
  }
 },
 "nbformat": 4,
 "nbformat_minor": 5
}
