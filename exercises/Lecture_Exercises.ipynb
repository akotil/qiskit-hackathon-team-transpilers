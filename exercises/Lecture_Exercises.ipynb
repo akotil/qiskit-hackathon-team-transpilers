{
 "cells": [
  {
   "cell_type": "code",
   "execution_count": 1,
   "id": "a25daf2a",
   "metadata": {},
   "outputs": [],
   "source": [
    "from qiskit import QuantumCircuit, execute, BasicAer\n",
    "from qiskit.visualization import plot_histogram"
   ]
  },
  {
   "cell_type": "markdown",
   "id": "4bbd37f5",
   "metadata": {},
   "source": [
    "# Part 1: Intuitive Understanding of Quantum Circuits"
   ]
  },
  {
   "cell_type": "markdown",
   "id": "972985cc",
   "metadata": {},
   "source": [
    "In this part of the exercises, we first introduce a way of interpreting quantum circuits as graphs. Let us investigate an arbitrary quantum circuit. We are going to use the Qiskit framework to add gates and to visualize the circuit."
   ]
  },
  {
   "cell_type": "code",
   "execution_count": 2,
   "id": "3a276b1b",
   "metadata": {},
   "outputs": [
    {
     "data": {
      "image/png": "[encoded data removed]",
      "text/plain": [
       "<Figure size 387.452x204.68 with 1 Axes>"
      ]
     },
     "execution_count": 2,
     "metadata": {},
     "output_type": "execute_result"
    }
   ],
   "source": [
    "qc = QuantumCircuit(2,2)\n",
    "qc.h(0)\n",
    "qc.barrier()\n",
    "qc.cnot(0,1)\n",
    "qc.barrier()\n",
    "qc.h(1)\n",
    "qc.draw(output='mpl')"
   ]
  },
  {
   "cell_type": "markdown",
   "id": "ffaaf0c4",
   "metadata": {},
   "source": [
    "This is what the circuit does: The first Hadamard gate brings the first qubit into superposition. The first qubit then controls the second qubit and flips it when it is 1. The second Hadamard gate brings the second qubit into superposition such that we have all the possible configurations of basis vectors in the end.\n",
    "\n",
    "An intuitive way of understanding what happens with a quantum circuit is to think of all the possible quantum states within a discrete time frame as a **_graph_**. Let's go step by step to see how the quantum state evolves with every gate using the example circuit above.\n",
    "\n",
    "Every graph node respresents a quantum state. The edges that connect the nodes carry the probability of landing in the destination node. At the beginning, we start with the state $|00\\rangle$. It is only one single node:"
   ]
  },
  {
   "cell_type": "markdown",
   "id": "00300c7a",
   "metadata": {},
   "source": [
    "<img src=\"images/g1.png\" alt=\"Drawing\" width=\"100\"/>"
   ]
  },
  {
   "cell_type": "markdown",
   "id": "a0fd7650",
   "metadata": {},
   "source": [
    "The first operation is a Hadamard gate. The Hadamard gate on the first gate will bring the first qubit into superposition, like this: $|00\\rangle \\rightarrow \\mathcal{H}|00\\rangle = 1/\\sqrt(2)(|00\\rangle + |10\\rangle)$. In other words, the first qubit is 0 with 50% probability and 1 is with 50% probability. We can think of this as two different _paths_, diverging from the start. We are going to see at the end of the circuit that a definite path will be the final quantum state."
   ]
  },
  {
   "cell_type": "markdown",
   "id": "ec51cf76",
   "metadata": {},
   "source": [
    "<img src=\"images/g2.png\" alt=\"Drawing\" width=\"250\"/>"
   ]
  },
  {
   "cell_type": "markdown",
   "id": "79845771",
   "metadata": {},
   "source": [
    "Next, we apply the CNOT gate. The first qubit controls the second qubit, so we have: $\\frac{1}{\\sqrt{2}}(|00\\rangle + |10\\rangle) \\rightarrow CNOT \\frac{1}{\\sqrt{2}}(|00\\rangle + |10\\rangle) = \\frac{1}{\\sqrt{2}}(|00\\rangle + |11\\rangle)$. Since the CNOT operation does not change the amplitudes of the quantum state, the probability that we land in a purple node from a red node will be 1. In order to calculate the probability of having one of the quantum states in the graph leaves (i.e. the nodes in the last layer of the graph), we just traverse back to the orange root node $|00\\rangle$. For example, the probability of having the quantum state $|00\\rangle$ (or $|10\\rangle$) in the end is $1/2 * 1 = 1/2$."
   ]
  },
  {
   "cell_type": "markdown",
   "id": "a878df1a",
   "metadata": {},
   "source": [
    "<img src=\"images/g3.png\" alt=\"Drawing\" width=\"200\"/>"
   ]
  },
  {
   "cell_type": "markdown",
   "id": "ff6833ee",
   "metadata": {},
   "source": [
    "Now we apply the second Hadamard gate on the _second_ qubit. This operation will bring the second qubit into superposition, just like with the first qubit in the beggining. The tree will now expand to its full breadth, covering all basis vectors from the computational basis $\\{ |00\\rangle, |01\\rangle, |10\\rangle, |11\\rangle\\}$."
   ]
  },
  {
   "cell_type": "markdown",
   "id": "a63a1227",
   "metadata": {},
   "source": [
    "<img src=\"images/g4.png\" alt=\"Drawing\" width=\"300\"/>"
   ]
  },
  {
   "cell_type": "markdown",
   "id": "50fa51d3",
   "metadata": {},
   "source": [
    "We can read out the probabilities from the graph again: The probability that the quantum circuit yields the basis state $|00\\rangle$ (and equally for all the other basis states) is $1/2 * 1 * 1/2 = 1/4$. Now comes the most interesting part of the circuit: The measurement. Let's measure the first qubit. The measurement outcome will either be 1 or 0."
   ]
  },
  {
   "cell_type": "code",
   "execution_count": 3,
   "id": "9637e12e",
   "metadata": {},
   "outputs": [
    {
     "data": {
      "image/png": "[encoded data removed]",
      "text/plain": [
       "<Figure size 447.652x204.68 with 1 Axes>"
      ]
     },
     "execution_count": 3,
     "metadata": {},
     "output_type": "execute_result"
    }
   ],
   "source": [
    "qc.measure(0,1) # measure the first qubit and store the classical outcome in a classical register\n",
    "qc.draw(output=\"mpl\")"
   ]
  },
  {
   "cell_type": "markdown",
   "id": "b5bc3f08",
   "metadata": {},
   "source": [
    "According to the outcome, we modify the graph structure to clearly mark the possible paths. By measuring the first qubit, we get a deterministic bit of information which will eliminate the path that does not contain this information. For example, if the first qubit is measured to be 0, the leaves of the right hand side of the graph will be eliminated completely, since the only possible outcome for the first qubit of those leaves is 1:"
   ]
  },
  {
   "cell_type": "markdown",
   "id": "c009a3c8",
   "metadata": {},
   "source": [
    "<table><tr>\n",
    "<td> <img src=\"images/g5.png\" alt=\"Drawing\" width=\"350\"/> </td>\n",
    "<td> <img src=\"images/g6.png\" alt=\"Drawing\" width=\"200\"/> </td>\n",
    "</tr></table>"
   ]
  },
  {
   "cell_type": "markdown",
   "id": "81b2fed7",
   "metadata": {},
   "source": [
    "Notice that the initial branching from the root node is now different; the root node only leads to one possible path. In order to keep the sum of probabilities 1 at each level, the $1/2$ probability from the right hand side of the tree gets _absorbed_ into the left hand side, such that there is a trivial transition $|00\\rangle \\rightarrow |00\\rangle$ with 100% probability now.\n",
    "\n",
    "There are only two possible quantum states left at the end: $|00\\rangle$ or $|01\\rangle$, both with probability $1/2$. Measuring the second qubit will determine the final outcome of the quantum circuit."
   ]
  },
  {
   "cell_type": "markdown",
   "id": "036bbe21",
   "metadata": {},
   "source": [
    "# Part 2: Exercise"
   ]
  },
  {
   "cell_type": "markdown",
   "id": "de04e368",
   "metadata": {},
   "source": [
    "We will now look at a quantum circuit:"
   ]
  },
  {
   "cell_type": "code",
   "execution_count": 4,
   "id": "f701e13c",
   "metadata": {},
   "outputs": [
    {
     "data": {
      "image/png": "[encoded data removed]",
      "text/plain": [
       "<Figure size 387.597x264.88 with 1 Axes>"
      ]
     },
     "execution_count": 4,
     "metadata": {},
     "output_type": "execute_result"
    }
   ],
   "source": [
    "qc = QuantumCircuit(3,3)\n",
    "qc.h(0)\n",
    "qc.h(2)\n",
    "\n",
    "qc.barrier()\n",
    "\n",
    "qc.cnot(0,1)\n",
    "qc.cnot(1,2)\n",
    "qc.cnot(1,0)\n",
    "\n",
    "qc.draw(output=\"mpl\")"
   ]
  },
  {
   "cell_type": "markdown",
   "id": "4c90bcff",
   "metadata": {},
   "source": [
    "**Task 1**: Create the circut graph as introduced in the Part 1.\n",
    "\n",
    "**Task 2**: What is the probability of measuring 0 in the first qubit? First, calculate it using the graph. Measure the quantum circuit qc with a number of shots=1000 to see if the probability distribution is consistent with your result."
   ]
  },
  {
   "cell_type": "markdown",
   "id": "4f6c7782",
   "metadata": {},
   "source": [
    "# Solutions"
   ]
  },
  {
   "cell_type": "markdown",
   "id": "fd1ea7fa",
   "metadata": {},
   "source": [
    "The solution graph:"
   ]
  },
  {
   "cell_type": "markdown",
   "id": "c8800152",
   "metadata": {},
   "source": [
    "<img src=\"images/solution-graph.jpg\" alt=\"Drawing\" width=\"500\"/>"
   ]
  },
  {
   "cell_type": "markdown",
   "id": "ff3b2e58",
   "metadata": {},
   "source": [
    "The probability of measuring 0 in the second qubit will require summing up _all the paths_ leading to the basis vectors which have a 0 in their first qubit. Looking at the leaves, we see that all of them end up having a 0 in the first qubit; so the probability will be $1/4 + 1/4 + 1/4 + 1/4 = 1$.\n",
    "\n",
    "Now let's measure the first qubit:"
   ]
  },
  {
   "cell_type": "code",
   "execution_count": 5,
   "id": "cbeeee80",
   "metadata": {},
   "outputs": [
    {
     "data": {
      "image/png": "[encoded data removed]",
      "text/plain": [
       "<Figure size 504x360 with 1 Axes>"
      ]
     },
     "execution_count": 5,
     "metadata": {},
     "output_type": "execute_result"
    }
   ],
   "source": [
    "qc.measure(0,0)\n",
    "\n",
    "backend = BasicAer.get_backend('qasm_simulator')\n",
    "job = execute(qc, backend, shots=1000).result().get_counts()\n",
    "plot_histogram(job) "
   ]
  },
  {
   "cell_type": "markdown",
   "id": "88755dba",
   "metadata": {},
   "source": [
    "We indeed get 100% for a 0 outcome."
   ]
  }
 ],
 "metadata": {
  "kernelspec": {
   "display_name": "Python 3 (ipykernel)",
   "language": "python",
   "name": "python3"
  },
  "language_info": {
   "codemirror_mode": {
    "name": "ipython",
    "version": 3
   },
   "file_extension": ".py",
   "mimetype": "text/x-python",
   "name": "python",
   "nbconvert_exporter": "python",
   "pygments_lexer": "ipython3",
   "version": "3.9.10"
  }
 },
 "nbformat": 4,
 "nbformat_minor": 5
}
